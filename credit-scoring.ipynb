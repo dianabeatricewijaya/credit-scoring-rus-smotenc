{
 "cells": [
  {
   "cell_type": "markdown",
   "metadata": {},
   "source": [
    "## Masukan data"
   ]
  },
  {
   "cell_type": "code",
   "execution_count": 1,
   "metadata": {},
   "outputs": [],
   "source": [
    "import pandas as pd\n",
    "from sklearn.model_selection import train_test_split, KFold\n",
    "data = pd.read_csv(\"data_category.csv\",sep=';')"
   ]
  },
  {
   "cell_type": "markdown",
   "metadata": {},
   "source": [
    "## baca data"
   ]
  },
  {
   "cell_type": "code",
   "execution_count": 2,
   "metadata": {
    "scrolled": true
   },
   "outputs": [
    {
     "data": {
      "text/html": [
       "<div>\n",
       "<style scoped>\n",
       "    .dataframe tbody tr th:only-of-type {\n",
       "        vertical-align: middle;\n",
       "    }\n",
       "\n",
       "    .dataframe tbody tr th {\n",
       "        vertical-align: top;\n",
       "    }\n",
       "\n",
       "    .dataframe thead th {\n",
       "        text-align: right;\n",
       "    }\n",
       "</style>\n",
       "<table border=\"1\" class=\"dataframe\">\n",
       "  <thead>\n",
       "    <tr style=\"text-align: right;\">\n",
       "      <th></th>\n",
       "      <th>religion</th>\n",
       "      <th>requestedprincipal</th>\n",
       "      <th>periodcount</th>\n",
       "      <th>gender</th>\n",
       "      <th>education</th>\n",
       "      <th>lengthofemployment</th>\n",
       "      <th>referencegender</th>\n",
       "      <th>monthlygrosssalary</th>\n",
       "      <th>residencestatus</th>\n",
       "      <th>maritalstatus</th>\n",
       "      <th>numberofdependents</th>\n",
       "      <th>employmentstatus</th>\n",
       "      <th>lineofbusiness</th>\n",
       "      <th>refrelationship</th>\n",
       "      <th>appclientage</th>\n",
       "      <th>label</th>\n",
       "    </tr>\n",
       "  </thead>\n",
       "  <tbody>\n",
       "    <tr>\n",
       "      <th>0</th>\n",
       "      <td>1</td>\n",
       "      <td>2000000.0</td>\n",
       "      <td>30</td>\n",
       "      <td>1</td>\n",
       "      <td>1</td>\n",
       "      <td>6.0</td>\n",
       "      <td>1</td>\n",
       "      <td>16886186</td>\n",
       "      <td>1</td>\n",
       "      <td>1</td>\n",
       "      <td>2.0</td>\n",
       "      <td>1</td>\n",
       "      <td>1</td>\n",
       "      <td>1</td>\n",
       "      <td>1</td>\n",
       "      <td>1</td>\n",
       "    </tr>\n",
       "    <tr>\n",
       "      <th>1</th>\n",
       "      <td>1</td>\n",
       "      <td>1000000.0</td>\n",
       "      <td>30</td>\n",
       "      <td>2</td>\n",
       "      <td>2</td>\n",
       "      <td>5.0</td>\n",
       "      <td>2</td>\n",
       "      <td>3680000</td>\n",
       "      <td>2</td>\n",
       "      <td>2</td>\n",
       "      <td>1.0</td>\n",
       "      <td>2</td>\n",
       "      <td>19</td>\n",
       "      <td>2</td>\n",
       "      <td>2</td>\n",
       "      <td>1</td>\n",
       "    </tr>\n",
       "    <tr>\n",
       "      <th>2</th>\n",
       "      <td>1</td>\n",
       "      <td>3000000.0</td>\n",
       "      <td>10</td>\n",
       "      <td>1</td>\n",
       "      <td>2</td>\n",
       "      <td>1.0</td>\n",
       "      <td>1</td>\n",
       "      <td>4000000</td>\n",
       "      <td>2</td>\n",
       "      <td>2</td>\n",
       "      <td>1.0</td>\n",
       "      <td>2</td>\n",
       "      <td>17</td>\n",
       "      <td>8</td>\n",
       "      <td>3</td>\n",
       "      <td>1</td>\n",
       "    </tr>\n",
       "    <tr>\n",
       "      <th>3</th>\n",
       "      <td>1</td>\n",
       "      <td>2000000.0</td>\n",
       "      <td>30</td>\n",
       "      <td>2</td>\n",
       "      <td>2</td>\n",
       "      <td>5.0</td>\n",
       "      <td>2</td>\n",
       "      <td>5000000</td>\n",
       "      <td>2</td>\n",
       "      <td>3</td>\n",
       "      <td>0.0</td>\n",
       "      <td>1</td>\n",
       "      <td>15</td>\n",
       "      <td>2</td>\n",
       "      <td>2</td>\n",
       "      <td>1</td>\n",
       "    </tr>\n",
       "    <tr>\n",
       "      <th>4</th>\n",
       "      <td>3</td>\n",
       "      <td>2000000.0</td>\n",
       "      <td>30</td>\n",
       "      <td>1</td>\n",
       "      <td>1</td>\n",
       "      <td>6.0</td>\n",
       "      <td>1</td>\n",
       "      <td>8000000</td>\n",
       "      <td>2</td>\n",
       "      <td>3</td>\n",
       "      <td>0.0</td>\n",
       "      <td>1</td>\n",
       "      <td>23</td>\n",
       "      <td>2</td>\n",
       "      <td>3</td>\n",
       "      <td>1</td>\n",
       "    </tr>\n",
       "  </tbody>\n",
       "</table>\n",
       "</div>"
      ],
      "text/plain": [
       "   religion  requestedprincipal  periodcount  gender  education  \\\n",
       "0         1           2000000.0           30       1          1   \n",
       "1         1           1000000.0           30       2          2   \n",
       "2         1           3000000.0           10       1          2   \n",
       "3         1           2000000.0           30       2          2   \n",
       "4         3           2000000.0           30       1          1   \n",
       "\n",
       "   lengthofemployment  referencegender  monthlygrosssalary  residencestatus  \\\n",
       "0                 6.0                1            16886186                1   \n",
       "1                 5.0                2             3680000                2   \n",
       "2                 1.0                1             4000000                2   \n",
       "3                 5.0                2             5000000                2   \n",
       "4                 6.0                1             8000000                2   \n",
       "\n",
       "   maritalstatus  numberofdependents  employmentstatus  lineofbusiness  \\\n",
       "0              1                 2.0                 1               1   \n",
       "1              2                 1.0                 2              19   \n",
       "2              2                 1.0                 2              17   \n",
       "3              3                 0.0                 1              15   \n",
       "4              3                 0.0                 1              23   \n",
       "\n",
       "   refrelationship  appclientage  label  \n",
       "0                1             1      1  \n",
       "1                2             2      1  \n",
       "2                8             3      1  \n",
       "3                2             2      1  \n",
       "4                2             3      1  "
      ]
     },
     "execution_count": 2,
     "metadata": {},
     "output_type": "execute_result"
    }
   ],
   "source": [
    "data.head()"
   ]
  },
  {
   "cell_type": "markdown",
   "metadata": {},
   "source": [
    "## merubah data menjadi category"
   ]
  },
  {
   "cell_type": "code",
   "execution_count": 3,
   "metadata": {},
   "outputs": [
    {
     "name": "stdout",
     "output_type": "stream",
     "text": [
      "<class 'pandas.core.frame.DataFrame'>\n",
      "RangeIndex: 13766 entries, 0 to 13765\n",
      "Data columns (total 16 columns):\n",
      "religion              13766 non-null int64\n",
      "requestedprincipal    13766 non-null float64\n",
      "periodcount           13766 non-null int64\n",
      "gender                13766 non-null int64\n",
      "education             13766 non-null int64\n",
      "lengthofemployment    13766 non-null float64\n",
      "referencegender       13766 non-null int64\n",
      "monthlygrosssalary    13766 non-null int64\n",
      "residencestatus       13766 non-null int64\n",
      "maritalstatus         13766 non-null int64\n",
      "numberofdependents    13766 non-null float64\n",
      "employmentstatus      13766 non-null int64\n",
      "lineofbusiness        13766 non-null int64\n",
      "refrelationship       13766 non-null int64\n",
      "appclientage          13766 non-null int64\n",
      "label                 13766 non-null int64\n",
      "dtypes: float64(3), int64(13)\n",
      "memory usage: 1.7 MB\n"
     ]
    }
   ],
   "source": [
    "data.info()"
   ]
  },
  {
   "cell_type": "code",
   "execution_count": 4,
   "metadata": {},
   "outputs": [],
   "source": [
    "data['religion']= data['religion'].astype('category')\n",
    "data['requestedprincipal']= data['requestedprincipal'].astype('int64')\n",
    "data['periodcount']= data['periodcount'].astype('category')\n",
    "data['gender']= data['gender'].astype('category')\n",
    "data['education']= data['education'].astype('category')\n",
    "data['lengthofemployment']= data['lengthofemployment'].astype('int64')\n",
    "data['referencegender']= data['referencegender'].astype('category')\n",
    "data['monthlygrosssalary']= data['monthlygrosssalary'].astype('category')\n",
    "data['residencestatus']= data['residencestatus'].astype('category')\n",
    "data['maritalstatus']= data['maritalstatus'].astype('category')\n",
    "data['numberofdependents']= data['numberofdependents'].astype('int64')\n",
    "data['employmentstatus']= data['employmentstatus'].astype('category')\n",
    "data['lineofbusiness']= data['lineofbusiness'].astype('category')\n",
    "data['refrelationship']= data['refrelationship'].astype('category')\n",
    "data['appclientage']= data['appclientage'].astype('category')\n",
    "data['label']= data['label'].astype('category')"
   ]
  },
  {
   "cell_type": "code",
   "execution_count": 5,
   "metadata": {},
   "outputs": [
    {
     "name": "stdout",
     "output_type": "stream",
     "text": [
      "<class 'pandas.core.frame.DataFrame'>\n",
      "RangeIndex: 13766 entries, 0 to 13765\n",
      "Data columns (total 16 columns):\n",
      "religion              13766 non-null category\n",
      "requestedprincipal    13766 non-null int64\n",
      "periodcount           13766 non-null category\n",
      "gender                13766 non-null category\n",
      "education             13766 non-null category\n",
      "lengthofemployment    13766 non-null int64\n",
      "referencegender       13766 non-null category\n",
      "monthlygrosssalary    13766 non-null category\n",
      "residencestatus       13766 non-null category\n",
      "maritalstatus         13766 non-null category\n",
      "numberofdependents    13766 non-null int64\n",
      "employmentstatus      13766 non-null category\n",
      "lineofbusiness        13766 non-null category\n",
      "refrelationship       13766 non-null category\n",
      "appclientage          13766 non-null category\n",
      "label                 13766 non-null category\n",
      "dtypes: category(13), int64(3)\n",
      "memory usage: 562.0 KB\n"
     ]
    }
   ],
   "source": [
    "data.info()"
   ]
  },
  {
   "cell_type": "markdown",
   "metadata": {},
   "source": [
    "## Membagi fitur dengan kelas"
   ]
  },
  {
   "cell_type": "code",
   "execution_count": 6,
   "metadata": {},
   "outputs": [],
   "source": [
    "X = data.drop('label', axis=1)\n",
    "y = data['label']"
   ]
  },
  {
   "cell_type": "code",
   "execution_count": 7,
   "metadata": {},
   "outputs": [],
   "source": [
    "from sklearn.model_selection import train_test_split\n",
    "\n",
    "# Split dataset into training set and test set\n",
    "X_train, X_test, y_train, y_test = train_test_split(X, y, test_size=0.3) # 70% training and 30% test"
   ]
  },
  {
   "cell_type": "markdown",
   "metadata": {},
   "source": [
    "## menampilkan kelas imbalanced"
   ]
  },
  {
   "cell_type": "code",
   "execution_count": 9,
   "metadata": {},
   "outputs": [
    {
     "name": "stdout",
     "output_type": "stream",
     "text": [
      "Good Applicant 11127\n",
      "Bad Applicant 2639\n"
     ]
    },
    {
     "data": {
      "image/png": "[encoded data removed]",
      "text/plain": [
       "<Figure size 576x432 with 1 Axes>"
      ]
     },
     "metadata": {
      "needs_background": "light"
     },
     "output_type": "display_data"
    }
   ],
   "source": [
    "import seaborn as sns\n",
    "import matplotlib.pyplot as plt\n",
    "%matplotlib inline\n",
    "\n",
    "# Get number of positve and negative examples\n",
    "good = data[data[\"label\"] == 1].shape[0]\n",
    "bad = data[data[\"label\"] == 0].shape[0]\n",
    "print(\"Good Applicant\",good)\n",
    "print(\"Bad Applicant\",bad)\n",
    "plt.figure(figsize=(8, 6))\n",
    "sns.countplot(data[\"label\"])\n",
    "plt.xticks((0, 1), [\"Bad Applicant\", \"Good Applicant\"])\n",
    "plt.xlabel(\"\")\n",
    "plt.ylabel(\"Count\")\n",
    "plt.title(\"Class counts\", y=1, fontdict={\"fontsize\": 20});"
   ]
  },
  {
   "cell_type": "code",
   "execution_count": 11,
   "metadata": {
    "scrolled": true
   },
   "outputs": [
    {
     "name": "stdout",
     "output_type": "stream",
     "text": [
      "Total data dari Train_X: (9636, 15)\n",
      "Total data dari train_y: (9636,) \n",
      "\n",
      "Total data dari Train_X: (4130, 15)\n",
      "Total data dari train_y: (4130,) \n",
      "\n"
     ]
    }
   ],
   "source": [
    "print('Total data dari Train_X: {}'.format(X_train.shape))\n",
    "print('Total data dari train_y: {} \\n'.format(y_train.shape))\n",
    "print('Total data dari Train_X: {}'.format(X_test.shape))\n",
    "print('Total data dari train_y: {} \\n'.format(y_test.shape))"
   ]
  },
  {
   "cell_type": "code",
   "execution_count": 8,
   "metadata": {
    "scrolled": false
   },
   "outputs": [
    {
     "name": "stdout",
     "output_type": "stream",
     "text": [
      "Total data Test Good Applicant: 3344\n",
      "Total data Test Bad Applicant: 786 \n",
      "\n"
     ]
    }
   ],
   "source": [
    "print(\"Total data Test Good Applicant: {}\".format(sum(y_test==1)))\n",
    "print(\"Total data Test Bad Applicant: {} \\n\".format(sum(y_test==0)))"
   ]
  },
  {
   "cell_type": "code",
   "execution_count": 12,
   "metadata": {},
   "outputs": [
    {
     "name": "stdout",
     "output_type": "stream",
     "text": [
      "=== Confusion Matrix ===\n",
      "[[  67  719]\n",
      " [  72 3272]]\n",
      "\n",
      "\n",
      "=== Classification Report ===\n",
      "              precision    recall  f1-score   support\n",
      "\n",
      "           0       0.48      0.09      0.14       786\n",
      "           1       0.82      0.98      0.89      3344\n",
      "\n",
      "   micro avg       0.81      0.81      0.81      4130\n",
      "   macro avg       0.65      0.53      0.52      4130\n",
      "weighted avg       0.76      0.81      0.75      4130\n",
      "\n",
      "\n",
      "\n",
      "Accuracy: 0.8084745762711865\n",
      "f1_score: 0.8921608725289707\n",
      "recall_score: 0.9784688995215312\n",
      "auc score: 0.5318553149007147\n",
      "[[  67  719]\n",
      " [  72 3272]]\n",
      "Sensitivity 0.9784688995215312\n",
      "Specificity 0.08524173027989822\n",
      "Precision 0.8198446504635429\n"
     ]
    },
    {
     "data": {
      "image/png": "[encoded data removed]",
      "text/plain": [
       "<Figure size 432x288 with 1 Axes>"
      ]
     },
     "metadata": {
      "needs_background": "light"
     },
     "output_type": "display_data"
    }
   ],
   "source": [
    "from sklearn.ensemble import RandomForestClassifier\n",
    "#Create a Gaussian Classifier\n",
    "rfc =RandomForestClassifier(n_estimators=100, random_state=1)\n",
    "\n",
    "#Train the model using the training sets y_pred=clf.predict(X_test)\n",
    "rfc.fit(X_train,y_train)\n",
    "\n",
    "# prediction on test set\n",
    "rfc_predict=rfc.predict(X_test)\n",
    "\n",
    "from sklearn.model_selection import cross_val_score\n",
    "from sklearn.metrics import classification_report, confusion_matrix\n",
    "print(\"=== Confusion Matrix ===\")\n",
    "print(confusion_matrix(y_test, rfc_predict))\n",
    "print('\\n')\n",
    "print(\"=== Classification Report ===\")\n",
    "print(classification_report(y_test, rfc_predict))\n",
    "print('\\n')\n",
    "from sklearn import metrics\n",
    "# Model Accuracy, how often is the classifier correct?\n",
    "print(\"Accuracy:\",metrics.accuracy_score(y_test, rfc_predict))\n",
    "print(\"f1_score:\",metrics.f1_score(y_test, rfc_predict))\n",
    "print(\"recall_score:\",metrics.recall_score(y_test, rfc_predict))\n",
    "print(\"auc score:\",metrics.roc_auc_score(y_test, rfc_predict))\n",
    "precision, recall, thresholds = metrics.precision_recall_curve(y_test, rfc_predict)\n",
    "import matplotlib.pyplot as plt\n",
    "%matplotlib inline\n",
    "\n",
    "plt.plot(recall, precision, marker='.')\n",
    "from sklearn.metrics import confusion_matrix\n",
    "confusion = confusion_matrix(y_test, rfc_predict)\n",
    "print(confusion)\n",
    "\n",
    "# True Positives\n",
    "TP = confusion[1, 1]\n",
    "# True Negatives\n",
    "TN = confusion[0, 0]\n",
    "# False Positives\n",
    "FP = confusion[0, 1]\n",
    "# False Negatives\n",
    "FN = confusion[1, 0]\n",
    "print(\"Sensitivity\",TP / float(TP + FN))\n",
    "print(\"Specificity\",TN / float(TN + FP))\n",
    "print(\"Precision\",TP / float(TP + FP))\n"
   ]
  },
  {
   "cell_type": "markdown",
   "metadata": {},
   "source": [
    "## oversampling dengan smote"
   ]
  },
  {
   "cell_type": "code",
   "execution_count": 13,
   "metadata": {},
   "outputs": [],
   "source": [
    "from imblearn.over_sampling import SMOTENC\n",
    "rus = SMOTENC(random_state=0,categorical_features=[0,2,3,4,6,7,8,9,11,12,13,14])\n",
    "X_over, y_over = rus.fit_resample(X_train, y_train.ravel())"
   ]
  },
  {
   "cell_type": "code",
   "execution_count": 14,
   "metadata": {},
   "outputs": [],
   "source": [
    "x_table_smotenc = pd.DataFrame(X_over)\n",
    "y_table_smotenc = pd.DataFrame(y_over)\n",
    "clean_loanbook = pd.concat([x_table_smotenc, y_table_smotenc], axis=1)\n",
    "clean_loanbook = pd.DataFrame(clean_loanbook)"
   ]
  },
  {
   "cell_type": "code",
   "execution_count": null,
   "metadata": {},
   "outputs": [],
   "source": []
  },
  {
   "cell_type": "code",
   "execution_count": 15,
   "metadata": {},
   "outputs": [],
   "source": [
    "clean_loanbook.columns = [\n",
    "    'religion',\n",
    "    'requestedprincipal',\n",
    "    'periodcount',\n",
    "    'gender',\n",
    "    'education',\n",
    "    'lengthofemployment',\n",
    "    'referencegender',\n",
    "    'monthlygrosssalary',\n",
    "    'residencestatus',\n",
    "    'maritalstatus',\n",
    "    'numberofdependents',\n",
    "    'employmentstatus',\n",
    "    'lineofbusiness',\n",
    "    'refrelationship',\n",
    "    'appclientage',\n",
    "    'label'\n",
    "]"
   ]
  },
  {
   "cell_type": "code",
   "execution_count": 18,
   "metadata": {},
   "outputs": [
    {
     "name": "stdout",
     "output_type": "stream",
     "text": [
      "Good Applicant 7783\n",
      "Bad Applicant 7783\n"
     ]
    },
    {
     "data": {
      "image/png": "[encoded data removed]",
      "text/plain": [
       "<Figure size 576x432 with 1 Axes>"
      ]
     },
     "metadata": {
      "needs_background": "light"
     },
     "output_type": "display_data"
    }
   ],
   "source": [
    "import seaborn as sns\n",
    "import matplotlib.pyplot as plt\n",
    "%matplotlib inline\n",
    "\n",
    "# Get number of positve and negative examples\n",
    "good = clean_loanbook[clean_loanbook[\"label\"] == 1].shape[0]\n",
    "bad = clean_loanbook[clean_loanbook[\"label\"] == 0].shape[0]\n",
    "print(\"Good Applicant\",good)\n",
    "print(\"Bad Applicant\",bad)\n",
    "plt.figure(figsize=(8, 6))\n",
    "sns.countplot(clean_loanbook[\"label\"])\n",
    "plt.xticks((0, 1), [\"Bad Applicant\", \"Good Applicant\"])\n",
    "plt.xlabel(\"\")\n",
    "plt.ylabel(\"Count\")\n",
    "plt.title(\"Class counts\", y=1, fontdict={\"fontsize\": 20});"
   ]
  },
  {
   "cell_type": "code",
   "execution_count": 19,
   "metadata": {},
   "outputs": [
    {
     "name": "stdout",
     "output_type": "stream",
     "text": [
      "Total data dari Train_X: (15566, 15)\n",
      "Total data dari train_y: (15566,) \n",
      "\n"
     ]
    }
   ],
   "source": [
    "print('Total data dari Train_X: {}'.format(X_over.shape))\n",
    "print('Total data dari train_y: {} \\n'.format(y_over.shape))"
   ]
  },
  {
   "cell_type": "code",
   "execution_count": 20,
   "metadata": {},
   "outputs": [
    {
     "name": "stdout",
     "output_type": "stream",
     "text": [
      "Total data Test Good Applicant: 3344\n",
      "Total data Test Bad Applicant: 786 \n",
      "\n"
     ]
    }
   ],
   "source": [
    "print(\"Total data Test Good Applicant: {}\".format(sum(y_test==1)))\n",
    "print(\"Total data Test Bad Applicant: {} \\n\".format(sum(y_test==0)))"
   ]
  },
  {
   "cell_type": "code",
   "execution_count": 22,
   "metadata": {},
   "outputs": [
    {
     "name": "stdout",
     "output_type": "stream",
     "text": [
      "=== Confusion Matrix ===\n",
      "[[ 147  639]\n",
      " [ 355 2989]]\n",
      "\n",
      "\n",
      "=== Classification Report ===\n",
      "              precision    recall  f1-score   support\n",
      "\n",
      "           0       0.29      0.19      0.23       786\n",
      "           1       0.82      0.89      0.86      3344\n",
      "\n",
      "   micro avg       0.76      0.76      0.76      4130\n",
      "   macro avg       0.56      0.54      0.54      4130\n",
      "weighted avg       0.72      0.76      0.74      4130\n",
      "\n",
      "\n",
      "\n",
      "Accuracy: 0.7593220338983051\n",
      "f1_score: 0.8574297188755019\n",
      "recall_score: 0.8938397129186603\n",
      "auc score: 0.5404313068410096\n",
      "[[ 147  639]\n",
      " [ 355 2989]]\n",
      "Sensitivity 0.8938397129186603\n",
      "Specificity 0.18702290076335878\n",
      "Precision 0.8238699007717751\n"
     ]
    },
    {
     "data": {
      "image/png": "[encoded data removed]",
      "text/plain": [
       "<Figure size 432x288 with 1 Axes>"
      ]
     },
     "metadata": {
      "needs_background": "light"
     },
     "output_type": "display_data"
    }
   ],
   "source": [
    "#Create a Gaussian Classifier\n",
    "rfc =RandomForestClassifier(n_estimators=100, random_state=1)\n",
    "\n",
    "#Train the model using the training sets y_pred=clf.predict(X_test)\n",
    "rfc.fit(X_over,y_over)\n",
    "\n",
    "# prediction on test set\n",
    "rfc_predict=rfc.predict(X_test)\n",
    "\n",
    "from sklearn.model_selection import cross_val_score\n",
    "from sklearn.metrics import classification_report, confusion_matrix\n",
    "print(\"=== Confusion Matrix ===\")\n",
    "print(confusion_matrix(y_test, rfc_predict))\n",
    "print('\\n')\n",
    "print(\"=== Classification Report ===\")\n",
    "print(classification_report(y_test, rfc_predict))\n",
    "print('\\n')\n",
    "from sklearn import metrics\n",
    "# Model Accuracy, how often is the classifier correct?\n",
    "print(\"Accuracy:\",metrics.accuracy_score(y_test, rfc_predict))\n",
    "print(\"f1_score:\",metrics.f1_score(y_test, rfc_predict))\n",
    "print(\"recall_score:\",metrics.recall_score(y_test, rfc_predict))\n",
    "print(\"auc score:\",metrics.roc_auc_score(y_test, rfc_predict))\n",
    "precision, recall, thresholds = metrics.precision_recall_curve(y_test, rfc_predict)\n",
    "import matplotlib.pyplot as plt\n",
    "%matplotlib inline\n",
    "\n",
    "plt.plot(recall, precision, marker='.')\n",
    "from sklearn.metrics import confusion_matrix\n",
    "confusion = confusion_matrix(y_test, rfc_predict)\n",
    "print(confusion)\n",
    "\n",
    "# True Positives\n",
    "TP = confusion[1, 1]\n",
    "# True Negatives\n",
    "TN = confusion[0, 0]\n",
    "# False Positives\n",
    "FP = confusion[0, 1]\n",
    "# False Negatives\n",
    "FN = confusion[1, 0]\n",
    "print(\"Sensitivity\",TP / float(TP + FN))\n",
    "print(\"Specificity\",TN / float(TN + FP))\n",
    "print(\"Precision\",TP / float(TP + FP))\n"
   ]
  },
  {
   "cell_type": "markdown",
   "metadata": {},
   "source": [
    "## Undersample dengan imblearn"
   ]
  },
  {
   "cell_type": "code",
   "execution_count": 28,
   "metadata": {},
   "outputs": [],
   "source": [
    "from imblearn.under_sampling import RandomUnderSampler\n",
    "rus = RandomUnderSampler(random_state=0, replacement=True)\n",
    "X_under, y_under = rus.fit_resample(X_train, y_train.ravel())"
   ]
  },
  {
   "cell_type": "code",
   "execution_count": 30,
   "metadata": {},
   "outputs": [],
   "source": [
    "x_table_rus = pd.DataFrame(X_under)\n",
    "y_table_rus = pd.DataFrame(y_under)\n",
    "data_under = pd.concat([x_table_rus, y_table_rus], axis=1)\n",
    "data_under = pd.DataFrame(data_under)"
   ]
  },
  {
   "cell_type": "code",
   "execution_count": 33,
   "metadata": {},
   "outputs": [],
   "source": [
    "data_under.columns = [\n",
    "    'religion',\n",
    "    'requestedprincipal',\n",
    "    'periodcount',\n",
    "    'gender',\n",
    "    'education',\n",
    "    'lengthofemployment',\n",
    "    'referencegender',\n",
    "    'monthlygrosssalary',\n",
    "    'residencestatus',\n",
    "    'maritalstatus',\n",
    "    'numberofdependents',\n",
    "    'employmentstatus',\n",
    "    'lineofbusiness',\n",
    "    'refrelationship',\n",
    "    'appclientage',\n",
    "    'label'\n",
    "]"
   ]
  },
  {
   "cell_type": "code",
   "execution_count": 34,
   "metadata": {},
   "outputs": [
    {
     "name": "stdout",
     "output_type": "stream",
     "text": [
      "Good Applicant 1853\n",
      "Bad Applicant 1853\n"
     ]
    },
    {
     "data": {
      "image/png": "[encoded data removed]",
      "text/plain": [
       "<Figure size 576x432 with 1 Axes>"
      ]
     },
     "metadata": {
      "needs_background": "light"
     },
     "output_type": "display_data"
    }
   ],
   "source": [
    "import seaborn as sns\n",
    "import matplotlib.pyplot as plt\n",
    "%matplotlib inline\n",
    "\n",
    "# Get number of positve and negative examples\n",
    "good = data_under[data_under[\"label\"] == 1].shape[0]\n",
    "bad = data_under[data_under[\"label\"] == 0].shape[0]\n",
    "print(\"Good Applicant\",good)\n",
    "print(\"Bad Applicant\",bad)\n",
    "plt.figure(figsize=(8, 6))\n",
    "sns.countplot(data_under[\"label\"])\n",
    "plt.xticks((0, 1), [\"Bad Applicant\", \"Good Applicant\"])\n",
    "plt.xlabel(\"\")\n",
    "plt.ylabel(\"Count\")\n",
    "plt.title(\"Class counts\", y=1, fontdict={\"fontsize\": 20});"
   ]
  },
  {
   "cell_type": "code",
   "execution_count": 24,
   "metadata": {
    "scrolled": true
   },
   "outputs": [
    {
     "name": "stdout",
     "output_type": "stream",
     "text": [
      "Total data dari Train_X: (3706, 15)\n",
      "Total data dari train_y: (3706,) \n",
      "\n"
     ]
    }
   ],
   "source": [
    "print('Total data dari Train_X: {}'.format(X_under.shape))\n",
    "print('Total data dari train_y: {} \\n'.format(y_under.shape))"
   ]
  },
  {
   "cell_type": "code",
   "execution_count": 27,
   "metadata": {},
   "outputs": [
    {
     "name": "stdout",
     "output_type": "stream",
     "text": [
      "Total data dari Train_X: (9636, 15)\n",
      "Total data dari train_y: (4130, 15) \n",
      "\n"
     ]
    }
   ],
   "source": [
    "print('Total data dari Train_X: {}'.format(X_train.shape))\n",
    "print('Total data dari train_y: {} \\n'.format(X_test.shape))"
   ]
  },
  {
   "cell_type": "code",
   "execution_count": 35,
   "metadata": {},
   "outputs": [
    {
     "name": "stdout",
     "output_type": "stream",
     "text": [
      "=== Confusion Matrix ===\n",
      "[[ 504  282]\n",
      " [1519 1825]]\n",
      "\n",
      "\n",
      "=== Classification Report ===\n",
      "              precision    recall  f1-score   support\n",
      "\n",
      "           0       0.25      0.64      0.36       786\n",
      "           1       0.87      0.55      0.67      3344\n",
      "\n",
      "   micro avg       0.56      0.56      0.56      4130\n",
      "   macro avg       0.56      0.59      0.51      4130\n",
      "weighted avg       0.75      0.56      0.61      4130\n",
      "\n",
      "\n",
      "\n",
      "Accuracy: 0.5639225181598063\n",
      "f1_score: 0.6696019079068061\n",
      "recall_score: 0.5457535885167464\n",
      "auc score: 0.5934874812812739\n",
      "[[ 504  282]\n",
      " [1519 1825]]\n",
      "Sensitivity 0.5457535885167464\n",
      "Specificity 0.6412213740458015\n",
      "Precision 0.8661604176554343\n"
     ]
    },
    {
     "data": {
      "image/png": "[encoded data removed]",
      "text/plain": [
       "<Figure size 432x288 with 1 Axes>"
      ]
     },
     "metadata": {
      "needs_background": "light"
     },
     "output_type": "display_data"
    }
   ],
   "source": [
    "#Create a Gaussian Classifier\n",
    "rfc =RandomForestClassifier(n_estimators=100, random_state=1)\n",
    "\n",
    "#Train the model using the training sets y_pred=clf.predict(X_test)\n",
    "rfc.fit(X_under,y_under)\n",
    "\n",
    "# prediction on test set\n",
    "rfc_predict=rfc.predict(X_test)\n",
    "\n",
    "from sklearn.model_selection import cross_val_score\n",
    "from sklearn.metrics import classification_report, confusion_matrix\n",
    "print(\"=== Confusion Matrix ===\")\n",
    "print(confusion_matrix(y_test, rfc_predict))\n",
    "print('\\n')\n",
    "print(\"=== Classification Report ===\")\n",
    "print(classification_report(y_test, rfc_predict))\n",
    "print('\\n')\n",
    "from sklearn import metrics\n",
    "# Model Accuracy, how often is the classifier correct?\n",
    "print(\"Accuracy:\",metrics.accuracy_score(y_test, rfc_predict))\n",
    "print(\"f1_score:\",metrics.f1_score(y_test, rfc_predict))\n",
    "print(\"recall_score:\",metrics.recall_score(y_test, rfc_predict))\n",
    "print(\"auc score:\",metrics.roc_auc_score(y_test, rfc_predict))\n",
    "precision, recall, thresholds = metrics.precision_recall_curve(y_test, rfc_predict)\n",
    "import matplotlib.pyplot as plt\n",
    "%matplotlib inline\n",
    "\n",
    "plt.plot(recall, precision, marker='.')\n",
    "from sklearn.metrics import confusion_matrix\n",
    "confusion = confusion_matrix(y_test, rfc_predict)\n",
    "print(confusion)\n",
    "\n",
    "# True Positives\n",
    "TP = confusion[1, 1]\n",
    "# True Negatives\n",
    "TN = confusion[0, 0]\n",
    "# False Positives\n",
    "FP = confusion[0, 1]\n",
    "# False Negatives\n",
    "FN = confusion[1, 0]\n",
    "print(\"Sensitivity\",TP / float(TP + FN))\n",
    "print(\"Specificity\",TN / float(TN + FP))\n",
    "print(\"Precision\",TP / float(TP + FP))\n"
   ]
  },
  {
   "cell_type": "code",
   "execution_count": 38,
   "metadata": {},
   "outputs": [
    {
     "name": "stderr",
     "output_type": "stream",
     "text": [
      "No handles with labels found to put in legend.\n"
     ]
    },
    {
     "name": "stdout",
     "output_type": "stream",
     "text": [
      "Index(['religion', 'requestedprincipal', 'periodcount', 'gender', 'education',\n",
      "       'lengthofemployment', 'referencegender', 'monthlygrosssalary',\n",
      "       'residencestatus', 'maritalstatus', 'numberofdependents',\n",
      "       'employmentstatus', 'lineofbusiness', 'refrelationship',\n",
      "       'appclientage'],\n",
      "      dtype='object')\n"
     ]
    },
    {
     "data": {
      "image/png": "[encoded data removed]",
      "text/plain": [
       "<Figure size 1152x720 with 1 Axes>"
      ]
     },
     "metadata": {
      "needs_background": "light"
     },
     "output_type": "display_data"
    }
   ],
   "source": [
    "colname = data.columns[0:15]\n",
    "print (colname)\n",
    "import pandas as pd\n",
    "feature_imp = pd.Series(rfc.feature_importances_,index=colname).sort_values(ascending=False)\n",
    "feature_imp\n",
    "\n",
    "import matplotlib.pyplot as plt\n",
    "import seaborn as sns\n",
    "%matplotlib inline\n",
    "# the size of A4 paper\n",
    "plt.figure(figsize=(16, 10))\n",
    "\n",
    "# Creating a bar plot\n",
    "sns.barplot(x=feature_imp, y=feature_imp.index)\n",
    "# Add labels to your graph\n",
    "plt.xlabel('Feature Importance Score')\n",
    "plt.ylabel('Features')\n",
    "plt.title(\"Visualizing Important Features\")\n",
    "plt.legend()\n",
    "plt.show()"
   ]
  },
  {
   "cell_type": "code",
   "execution_count": null,
   "metadata": {},
   "outputs": [],
   "source": [
    "from sklearn.tree import export_graphviz\n",
    "# Extract single tree\n",
    "estimator = rfc.estimators_[5]\n",
    "# Export as ot file\n",
    "export_graphviz(estimator, \n",
    "                out_file='tree.dot', \n",
    "                feature_names = X.columns,\n",
    "                class_names = str(y),\n",
    "                rounded = True, proportion = False, \n",
    "                precision = 2, filled = True)"
   ]
  },
  {
   "cell_type": "code",
   "execution_count": null,
   "metadata": {},
   "outputs": [],
   "source": [
    "from subprocess import call\n",
    "call(['dot', '-Tpng', 'tree.dot', '-o', 'tree.png', '-Gdpi=300'])"
   ]
  },
  {
   "cell_type": "code",
   "execution_count": null,
   "metadata": {},
   "outputs": [],
   "source": [
    "# Display in jupyter notebook\n",
    "from IPython.display import Image\n",
    "Image(filename = 'tree.png')"
   ]
  },
  {
   "cell_type": "code",
   "execution_count": null,
   "metadata": {},
   "outputs": [],
   "source": []
  }
 ],
 "metadata": {
  "kernelspec": {
   "display_name": "Python 3",
   "language": "python",
   "name": "python3"
  },
  "language_info": {
   "codemirror_mode": {
    "name": "ipython",
    "version": 3
   },
   "file_extension": ".py",
   "mimetype": "text/x-python",
   "name": "python",
   "nbconvert_exporter": "python",
   "pygments_lexer": "ipython3",
   "version": "3.7.3"
  }
 },
 "nbformat": 4,
 "nbformat_minor": 2
}
